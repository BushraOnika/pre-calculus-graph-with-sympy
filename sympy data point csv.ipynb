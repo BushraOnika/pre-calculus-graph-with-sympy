{
 "cells": [
  {
   "metadata": {
    "ExecuteTime": {
     "end_time": "2025-04-01T17:19:04.025623Z",
     "start_time": "2025-04-01T17:19:04.011026Z"
    }
   },
   "cell_type": "code",
   "source": "import polars as pl\n",
   "id": "5685dcaf721148a9",
   "outputs": [],
   "execution_count": 11
  },
  {
   "metadata": {
    "collapsed": true,
    "ExecuteTime": {
     "end_time": "2025-04-01T17:13:07.341625Z",
     "start_time": "2025-04-01T17:13:07.314183Z"
    }
   },
   "cell_type": "code",
   "outputs": [
    {
     "data": {
      "text/plain": [
       "ScatterWidget()"
      ],
      "application/vnd.jupyter.widget-view+json": {
       "version_major": 2,
       "version_minor": 1,
       "model_id": "78e4f1609bde4cb1963dea4c9e2c20c3"
      }
     },
     "execution_count": 7,
     "metadata": {},
     "output_type": "execute_result"
    }
   ],
   "execution_count": 7,
   "source": [
    "from drawdata import ScatterWidget\n",
    "\n",
    "widget = ScatterWidget()\n",
    "widget"
   ],
   "id": "initial_id"
  },
  {
   "metadata": {
    "ExecuteTime": {
     "end_time": "2025-04-01T17:29:22.671539Z",
     "start_time": "2025-04-01T17:29:22.662170Z"
    }
   },
   "cell_type": "code",
   "source": [
    "widget.data\n",
    "df=widget.data_as_polars\n",
    "df=df.select(['x','y'])"
   ],
   "id": "4c4c69b039b93218",
   "outputs": [],
   "execution_count": 24
  },
  {
   "metadata": {
    "ExecuteTime": {
     "end_time": "2025-04-01T17:29:24.545240Z",
     "start_time": "2025-04-01T17:29:24.525072Z"
    }
   },
   "cell_type": "code",
   "source": "df",
   "id": "ff72750dcb387484",
   "outputs": [
    {
     "data": {
      "text/plain": [
       "shape: (81, 2)\n",
       "┌────────────┬────────────┐\n",
       "│ x          ┆ y          │\n",
       "│ ---        ┆ ---        │\n",
       "│ f64        ┆ f64        │\n",
       "╞════════════╪════════════╡\n",
       "│ 101.208229 ┆ 172.068191 │\n",
       "│ 101.520063 ┆ 167.60363  │\n",
       "│ 110.993742 ┆ 178.127843 │\n",
       "│ 100.802451 ┆ 169.392006 │\n",
       "│ 108.482342 ┆ 179.904829 │\n",
       "│ …          ┆ …          │\n",
       "│ 539.670835 ┆ 335.997471 │\n",
       "│ 549.029336 ┆ 341.86877  │\n",
       "│ 540.982118 ┆ 344.653663 │\n",
       "│ 547.731833 ┆ 342.324539 │\n",
       "│ 550.959579 ┆ 348.981272 │\n",
       "└────────────┴────────────┘"
      ],
      "text/html": [
       "<div><style>\n",
       ".dataframe > thead > tr,\n",
       ".dataframe > tbody > tr {\n",
       "  text-align: right;\n",
       "  white-space: pre-wrap;\n",
       "}\n",
       "</style>\n",
       "<small>shape: (81, 2)</small><table border=\"1\" class=\"dataframe\"><thead><tr><th>x</th><th>y</th></tr><tr><td>f64</td><td>f64</td></tr></thead><tbody><tr><td>101.208229</td><td>172.068191</td></tr><tr><td>101.520063</td><td>167.60363</td></tr><tr><td>110.993742</td><td>178.127843</td></tr><tr><td>100.802451</td><td>169.392006</td></tr><tr><td>108.482342</td><td>179.904829</td></tr><tr><td>&hellip;</td><td>&hellip;</td></tr><tr><td>539.670835</td><td>335.997471</td></tr><tr><td>549.029336</td><td>341.86877</td></tr><tr><td>540.982118</td><td>344.653663</td></tr><tr><td>547.731833</td><td>342.324539</td></tr><tr><td>550.959579</td><td>348.981272</td></tr></tbody></table></div>"
      ]
     },
     "execution_count": 25,
     "metadata": {},
     "output_type": "execute_result"
    }
   ],
   "execution_count": 25
  },
  {
   "metadata": {
    "ExecuteTime": {
     "end_time": "2025-04-01T17:29:29.367612Z",
     "start_time": "2025-04-01T17:29:29.347615Z"
    }
   },
   "cell_type": "code",
   "source": "df.write_csv('x_and_y.csv')",
   "id": "f42bf4c00285473d",
   "outputs": [],
   "execution_count": 27
  },
  {
   "metadata": {},
   "cell_type": "code",
   "outputs": [],
   "execution_count": null,
   "source": "",
   "id": "33f5f936cb6b36b"
  }
 ],
 "metadata": {
  "kernelspec": {
   "display_name": "Python 3",
   "language": "python",
   "name": "python3"
  },
  "language_info": {
   "codemirror_mode": {
    "name": "ipython",
    "version": 2
   },
   "file_extension": ".py",
   "mimetype": "text/x-python",
   "name": "python",
   "nbconvert_exporter": "python",
   "pygments_lexer": "ipython2",
   "version": "2.7.6"
  }
 },
 "nbformat": 4,
 "nbformat_minor": 5
}
